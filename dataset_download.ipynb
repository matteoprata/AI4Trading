{
 "cells": [
  {
   "cell_type": "markdown",
   "id": "65cccc1e",
   "metadata": {},
   "source": [
    "# LOB Dataset for Projects\n",
    "\n",
    "This jupyter notebook is used to download the FI-2010 [1] dataset for train and test a AI classifier on LOB data. \n",
    "The code is obtained from [2].\n",
    "\n",
    "### Data:\n",
    "The FI-2010 is publicly avilable and interested readers can check out their paper [1]. The dataset can be downloaded from: https://etsin.fairdata.fi/dataset/73eb48d7-4dbc-4a10-a52a-da745b47a649 \n",
    "\n",
    "Otherwise, the notebook will download the data automatically or it can be obtained from: \n",
    "\n",
    "https://drive.google.com/drive/folders/1Xen3aRid9ZZhFqJRgEMyETNazk02cNmv?usp=sharing\n",
    "\n",
    "### References:\n",
    "[1] Ntakaris A, Magris M, Kanniainen J, Gabbouj M, Iosifidis A. Benchmark dataset for mid‐price forecasting of limit order book data with machine learning methods. Journal of Forecasting. 2018 Dec;37(8):852-66. https://arxiv.org/abs/1705.03233\n",
    "\n",
    "[2] Zhang Z, Zohren S, Roberts S. DeepLOB: Deep convolutional neural networks for limit order books. IEEE Transactions on Signal Processing. 2019 Mar 25;67(11):3001-12. https://arxiv.org/abs/1808.03668\n",
    "\n",
    "### This notebook runs on Pytorch 1.9.0."
   ]
  },
  {
   "cell_type": "code",
   "execution_count": 1,
   "id": "89391acf",
   "metadata": {},
   "outputs": [
    {
     "name": "stdout",
     "output_type": "stream",
     "text": [
      "data already existed.\n"
     ]
    }
   ],
   "source": [
    "# download the data\n",
    "import os \n",
    "if not os.path.isfile('data.zip'):\n",
    "    !wget https://raw.githubusercontent.com/zcakhaa/DeepLOB-Deep-Convolutional-Neural-Networks-for-Limit-Order-Books/master/data/data.zip\n",
    "    !unzip -n data.zip\n",
    "    print('data downloaded.')\n",
    "else:\n",
    "    print('data already existed.')"
   ]
  },
  {
   "cell_type": "code",
   "execution_count": 2,
   "id": "a5796c48",
   "metadata": {},
   "outputs": [
    {
     "name": "stdout",
     "output_type": "stream",
     "text": [
      "total 1962160\r\n",
      "drwxr-xr-x  18 andreacoletta  staff        576 Dec 16 14:01 \u001b[1m\u001b[36m.\u001b[m\u001b[m\r\n",
      "drwxr-xr-x   4 andreacoletta  staff        128 Dec  2 13:34 \u001b[1m\u001b[36m..\u001b[m\u001b[m\r\n",
      "-rw-r--r--@  1 andreacoletta  staff       6148 Nov  4 15:26 .DS_Store\r\n",
      "drwxr-xr-x  15 andreacoletta  staff        480 Dec 16 14:01 \u001b[1m\u001b[36m.git\u001b[m\u001b[m\r\n",
      "drwxr-xr-x   6 andreacoletta  staff        192 Dec  2 13:37 \u001b[1m\u001b[36m.ipynb_checkpoints\u001b[m\u001b[m\r\n",
      "-rw-r--r--   1 andreacoletta  staff        342 Oct 28 12:20 README.md\r\n",
      "-rw-r--r--   1 andreacoletta  staff  132259850 Jul 14 22:58 Test_Dst_NoAuction_DecPre_CF_7.txt\r\n",
      "-rw-r--r--   1 andreacoletta  staff  124378346 Jul 14 22:58 Test_Dst_NoAuction_DecPre_CF_8.txt\r\n",
      "-rw-r--r--   1 andreacoletta  staff   76138106 Jul 14 22:58 Test_Dst_NoAuction_DecPre_CF_9.txt\r\n",
      "-rw-r--r--   1 andreacoletta  staff  607324298 Jul 14 22:58 Train_Dst_NoAuction_DecPre_CF_7.txt\r\n",
      "drwxr-xr-x  17 andreacoletta  staff        544 Nov  3 23:05 \u001b[1m\u001b[36mdata\u001b[m\u001b[m\r\n",
      "-rw-r--r--   1 andreacoletta  staff   56278154 Dec  2 13:37 data.zip\r\n",
      "-rw-r--r--@  1 andreacoletta  staff       6493 Dec 16 14:01 dataset_download.ipynb\r\n",
      "-rw-r--r--   1 andreacoletta  staff       3947 Oct 28 12:26 env.yml\r\n",
      "-rw-r--r--   1 andreacoletta  staff    4695232 Nov  3 23:02 lecture_01.ipynb\r\n",
      "-rw-r--r--   1 andreacoletta  staff       2465 Nov  3 23:02 lecture_02-homework.ipynb\r\n",
      "-rw-r--r--   1 andreacoletta  staff    1589950 Nov  3 23:02 lecture_02.ipynb\r\n",
      "-rw-r--r--   1 andreacoletta  staff    1914208 Nov  4 15:45 lecture_03.ipynb\r\n"
     ]
    }
   ],
   "source": [
    "!ls -la"
   ]
  },
  {
   "cell_type": "code",
   "execution_count": 4,
   "id": "fb74f75d",
   "metadata": {},
   "outputs": [],
   "source": [
    "# load packages\n",
    "import pandas as pd\n",
    "import pickle\n",
    "import numpy as np\n",
    "import matplotlib.pyplot as plt\n",
    "from datetime import datetime\n",
    "from tqdm import tqdm \n",
    "from sklearn.metrics import accuracy_score, classification_report\n"
   ]
  },
  {
   "cell_type": "markdown",
   "id": "a90694ed",
   "metadata": {},
   "source": [
    "# Data preparation\n",
    "\n",
    "We used no auction dataset that is normalised by decimal precision approach in their work. The first seven days are training data and the last three days are testing data. A validation set (20%) from the training set is used to monitor the overfitting behaviours.  \n",
    "\n",
    "The first 40 columns of the FI-2010 dataset are 10 levels ask and bid information for a limit order book and we only use these 40 features in our network. The last 5 columns of the FI-2010 dataset are the labels with different prediction horizons. "
   ]
  },
  {
   "cell_type": "code",
   "execution_count": 6,
   "id": "299b429b",
   "metadata": {},
   "outputs": [
    {
     "name": "stdout",
     "output_type": "stream",
     "text": [
      "(149, 203800) (149, 50950) (149, 139587)\n"
     ]
    }
   ],
   "source": [
    "# please change the data_path to your local path\n",
    "# data_path = '/nfs/home/zihaoz/limit_order_book/data'\n",
    "dec_data = np.loadtxt('Train_Dst_NoAuction_DecPre_CF_7.txt') # 80 training - 20 validation\n",
    "dec_train = dec_data[:, :int(np.floor(dec_data.shape[1] * 0.8))]\n",
    "dec_val = dec_data[:, int(np.floor(dec_data.shape[1] * 0.8)):]\n",
    "\n",
    "dec_test1 = np.loadtxt('Test_Dst_NoAuction_DecPre_CF_7.txt')\n",
    "dec_test2 = np.loadtxt('Test_Dst_NoAuction_DecPre_CF_8.txt')\n",
    "dec_test3 = np.loadtxt('Test_Dst_NoAuction_DecPre_CF_9.txt')\n",
    "dec_test = np.hstack((dec_test1, dec_test2, dec_test3))\n",
    "\n",
    "print(dec_train.shape, dec_val.shape, dec_test.shape)"
   ]
  },
  {
   "cell_type": "code",
   "execution_count": 7,
   "id": "4f61007e",
   "metadata": {},
   "outputs": [],
   "source": [
    "# all the data refer to 7 days, and the first 5 days are in the training set and validation \n",
    "# and the last 2 days are inside the test set \n",
    "x_training_data = dec_train.T[:, :40]\n",
    "x_validation_data = dec_val.T[:, :40]\n",
    "x_test_data = dec_test.T[:, :40]"
   ]
  },
  {
   "cell_type": "code",
   "execution_count": 8,
   "id": "d55c27c9",
   "metadata": {},
   "outputs": [
    {
     "name": "stdout",
     "output_type": "stream",
     "text": [
      "(203800, 40) (50950, 40) (139587, 40)\n"
     ]
    }
   ],
   "source": [
    "print(x_training_data.shape, x_validation_data.shape, x_test_data.shape)"
   ]
  },
  {
   "cell_type": "code",
   "execution_count": 9,
   "id": "18387ca6",
   "metadata": {},
   "outputs": [
    {
     "data": {
      "text/plain": [
       "array([0.2615 , 0.00353, 0.2606 , 0.00326, 0.2618 , 0.002  , 0.2604 ,\n",
       "       0.00682, 0.2619 , 0.00164, 0.2602 , 0.00786, 0.262  , 0.00532,\n",
       "       0.26   , 0.00893, 0.2621 , 0.00151, 0.2599 , 0.00159, 0.2623 ,\n",
       "       0.00837, 0.2595 , 0.001  , 0.2625 , 0.0015 , 0.2593 , 0.00143,\n",
       "       0.2626 , 0.00787, 0.2591 , 0.00134, 0.2629 , 0.00146, 0.2588 ,\n",
       "       0.00123, 0.2633 , 0.00311, 0.2579 , 0.00128])"
      ]
     },
     "execution_count": 9,
     "metadata": {},
     "output_type": "execute_result"
    }
   ],
   "source": [
    "x_training_data[0] # 40 --> 10 levels and (ask-price, ask-volume, bid-price, bid-volume)"
   ]
  },
  {
   "cell_type": "code",
   "execution_count": 10,
   "id": "784d894a",
   "metadata": {},
   "outputs": [
    {
     "data": {
      "text/plain": [
       "array([0.2615 , 0.00211, 0.2606 , 0.00326, 0.2619 , 0.00164, 0.2604 ,\n",
       "       0.00682, 0.262  , 0.00138, 0.2602 , 0.00786, 0.2621 , 0.00545,\n",
       "       0.2601 , 0.00393, 0.2625 , 0.0015 , 0.26   , 0.005  , 0.2626 ,\n",
       "       0.00787, 0.2599 , 0.00159, 0.2629 , 0.00146, 0.2595 , 0.001  ,\n",
       "       0.2633 , 0.00311, 0.2593 , 0.00143, 0.2637 , 0.00165, 0.2591 ,\n",
       "       0.00134, 0.2646 , 0.00138, 0.2588 , 0.00123])"
      ]
     },
     "execution_count": 10,
     "metadata": {},
     "output_type": "execute_result"
    }
   ],
   "source": [
    "x_training_data[1]  # second time instant"
   ]
  },
  {
   "cell_type": "markdown",
   "id": "90dc7453",
   "metadata": {},
   "source": [
    "#### Dataset info:\n",
    "\n",
    "The 'x' is an 2d-array that contains, for each row a snapshot of the orderbook in the following structure:\n",
    "'best-ask price', 'best-ask volume', 'best-bid price', 'best-bid volume', '2-lev ask price', '2-levl ask volume', '2-lev bid price', '2-lev bid volume', ....\n"
   ]
  }
 ],
 "metadata": {
  "kernelspec": {
   "display_name": "Python 3 (ipykernel)",
   "language": "python",
   "name": "python3"
  },
  "language_info": {
   "codemirror_mode": {
    "name": "ipython",
    "version": 3
   },
   "file_extension": ".py",
   "mimetype": "text/x-python",
   "name": "python",
   "nbconvert_exporter": "python",
   "pygments_lexer": "ipython3",
   "version": "3.9.7"
  }
 },
 "nbformat": 4,
 "nbformat_minor": 5
}
