{
 "cells": [
  {
   "cell_type": "markdown",
   "metadata": {
    "collapsed": true,
    "pycharm": {
     "name": "#%% md\n"
    }
   },
   "source": [
    "## Homework 1 - Bollinger Bands\n",
    "\n",
    "A **Bollinger Band®** is a technical analysis tool defined by a set of **trendlines plotted two standard deviations (positively and negatively) away from a simple moving average (SMA)** of a security's price, but which can be adjusted to user preferences. Bollinger Bands® were developed and copyrighted by the famous technical trader John Bollinger, designed to  identify when an asset is oversold or overbought. Many traders believe the closer the prices move to the upper band, the more overbought the market is, and the closer the prices move to the lower band, the more oversold the market is <a href=\"https://www.investopedia.com/terms/b/bollingerbands.asp\">[1]</a>.\n",
    "\n",
    "**Task 1** consists in reading the whole APPL (Apple Inc.) dataset available in the _data_ directory, computing and plotting the Bollinger bands of the adjusted close price, moving average (20 days window size) and the adjusted close price itself. **Task 2** consists in identifying potential buying and selling opportunities and plotting vertical lines in the plot: green corresponding to buy signals, red to sell signals.\n",
    "\n",
    "The output plot should look similar to this:\n",
    "<img src=\"data/press_images/signals_by_boil.svg\"/>\n",
    "\n",
    "To implement Bollinger bands you may want to review the lecture of October 21: _rolling mean_, _rolling standard deviation_, _arrays operations and indexing_, _dataframe plotting_. The homework is due **by Friday November 5, 2021**. Should you need further clarifications or help, please feel free to contact us before the deadline.\n",
    "\n",
    "Additional material:\n",
    "- https://www.investopedia.com/terms/b/bollingerbands.asp\n",
    "- https://www.bollingerbands.com/bollinger-band-rules\n",
    "- https://www.iforex.in/bollinger-bands"
   ]
  }
 ],
 "metadata": {
  "kernelspec": {
   "display_name": "Python 3",
   "language": "python",
   "name": "python3"
  },
  "language_info": {
   "codemirror_mode": {
    "name": "ipython",
    "version": 3
   },
   "file_extension": ".py",
   "mimetype": "text/x-python",
   "name": "python",
   "nbconvert_exporter": "python",
   "pygments_lexer": "ipython3",
   "version": "3.8.8"
  }
 },
 "nbformat": 4,
 "nbformat_minor": 1
}
